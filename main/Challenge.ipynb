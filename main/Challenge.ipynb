{
 "cells": [
  {
   "cell_type": "markdown",
   "metadata": {},
   "source": [
    "<center> <h1> The Assignment for SFR job </h1> </center>\n",
    "\n",
    "## Name : Radwan SATOUF \n",
    "# ––––––––––––––––––––––––––––––––––––––––––––––––––––––––––––––––––––––\n",
    "\n"
   ]
  },
  {
   "cell_type": "markdown",
   "metadata": {},
   "source": [
    "## Outline\n",
    "\n",
    "- [Exercise 1](#ex1)\n",
    "    - [Objective](#1.1)\n",
    "    - [More Technically](#1.2)\n",
    "- [Solution for exercice 1](#sol1)\n",
    "    - [Getting all data](#sol1.1)\n",
    "    - [Analyzing and preprocessing](#sol1.2)\n",
    "    - [Modeling and predicting ](#sol1.3)\n",
    "- [Exercice 2 : SQL](#ex2)\n",
    "- [Solution for exercice 2](#sol2)\n",
    "- [# Exercice 3 : Mathématiques](#ex3)"
   ]
  },
  {
   "cell_type": "markdown",
   "metadata": {},
   "source": [
    "# ––––––––––––––––––––––––––––––––––––––––––––––––––––––––––––––––––––––\n",
    "\n",
    "\n",
    "<a name='ex1'></a>\n",
    "\n",
    "# Exercise 1 : Can I find my invoices and contracts?\n",
    "\n",
    "<u>**NB : All data used in this exercise are fictitious data.**</u>\n"
   ]
  },
  {
   "cell_type": "markdown",
   "metadata": {},
   "source": [
    "<a name='1.1'></a>\n",
    "## Objective:\n",
    "\n",
    "Each year, the accounting management service is scaning thousands of invoices and contracts. All these pdf scans are stored in a Database, and manually flaged. The accounting service wants to automate the process.\n",
    "\n",
    "*Given a bunch of documents without label are you able to separate invoices from contracts?*\n",
    "\n",
    "As a Data Scientist you offer to implement a machine learning solution. Nonetheless, accounting services bring to your attention:\n",
    " - Formats are constantly evolving therefore, you cannot use past documents to design your solution\n",
    " - They will send you TEXT data after passing pdf into an OCR (noise may happen)\n",
    " "
   ]
  },
  {
   "cell_type": "markdown",
   "metadata": {},
   "source": [
    "<a name='1.2'></a>\n",
    "## More Technically\n",
    " - **/train** folder contains raw text invoices and contracts (0000.txt to 0799.txt)\n",
    " - **/val** folder contains raw text invoices and contracts (0000.txt to 0799.txt) and *label.csv* to evaluate performances.\n",
    " \n",
    "You are asked to:\n",
    " - Build a machine learning process to seperate invoices from contracts without previous knowledge.\n",
    " - Evaluate the performances on the validation (/val) dataset.\n",
    " \n",
    "*Feel free to import any usual python and ML packages.*\n",
    "\n",
    "*Please answer in English*"
   ]
  },
  {
   "cell_type": "markdown",
   "metadata": {},
   "source": [
    "<a name='sol1'></a>\n",
    "# ––––––––––––––––––––––––––––––––––––––––––––––––––––––––––––––––––––––\n",
    "# Solution for exercice 1\n",
    "## Importing all the Important packages :"
   ]
  },
  {
   "cell_type": "code",
   "execution_count": 1,
   "metadata": {},
   "outputs": [],
   "source": [
    "#data manipulation \n",
    "import pandas as pd\n",
    "import numpy as np\n",
    "from glob import glob as gl #to read files\n",
    "\n",
    "# String manipulation\n",
    "import re\n",
    "import string \n",
    "\n",
    "# Modeling \n",
    "from sklearn.feature_extraction.text import TfidfVectorizer #from TF-Idf transformer \n",
    "from sklearn.cluster import KMeans # clustering \n",
    "from sklearn.decomposition import PCA # to show Dimensions \n",
    "\n",
    "#Model Evaluation\n",
    "from sklearn.metrics import classification_report\n",
    "\n",
    "#Threading \n",
    "from concurrent.futures import ThreadPoolExecutor\n",
    "\n",
    "#Visualization set up \n",
    "import matplotlib.pyplot as plt\n",
    "import seaborn as sns\n",
    "sns.set_style(\"whitegrid\")#seting theme for graphs\n",
    "#TODO"
   ]
  },
  {
   "cell_type": "markdown",
   "metadata": {},
   "source": [
    "<a name='#sol1.1'></a>\n",
    "## Getting all data\n",
    "* First I am going to get the directory of the files\n",
    "* Seconde I am using glob Package to get all files names \n",
    "* Then I am creating 3 variables \n",
    "    * trainFiles : all the training text \n",
    "    * valFiles : all the validation text \n",
    "    * valCSV : a data frame with name and label of  the validation dataset to evaluate the performances"
   ]
  },
  {
   "cell_type": "code",
   "execution_count": 2,
   "metadata": {},
   "outputs": [
    {
     "name": "stdout",
     "output_type": "stream",
     "text": [
      "\u001b[34mtrain\u001b[m\u001b[m/ \u001b[34mval\u001b[m\u001b[m/\r\n"
     ]
    }
   ],
   "source": [
    "ls data/"
   ]
  },
  {
   "cell_type": "code",
   "execution_count": 3,
   "metadata": {},
   "outputs": [
    {
     "name": "stdout",
     "output_type": "stream",
     "text": [
      "trainFiles got 800 files\n",
      "valFiles got 800 files\n",
      "\n",
      "The last 3 files of trainFiles :['data/train/0359.txt', 'data/train/0371.txt', 'data/train/0417.txt', 'data/train/0403.txt', 'data/train/0365.txt']\n"
     ]
    },
    {
     "data": {
      "text/html": [
       "<div>\n",
       "<style scoped>\n",
       "    .dataframe tbody tr th:only-of-type {\n",
       "        vertical-align: middle;\n",
       "    }\n",
       "\n",
       "    .dataframe tbody tr th {\n",
       "        vertical-align: top;\n",
       "    }\n",
       "\n",
       "    .dataframe thead th {\n",
       "        text-align: right;\n",
       "    }\n",
       "</style>\n",
       "<table border=\"1\" class=\"dataframe\">\n",
       "  <thead>\n",
       "    <tr style=\"text-align: right;\">\n",
       "      <th></th>\n",
       "      <th>name</th>\n",
       "      <th>label</th>\n",
       "    </tr>\n",
       "  </thead>\n",
       "  <tbody>\n",
       "    <tr>\n",
       "      <th>1997</th>\n",
       "      <td>1997</td>\n",
       "      <td>facture</td>\n",
       "    </tr>\n",
       "    <tr>\n",
       "      <th>1998</th>\n",
       "      <td>1998</td>\n",
       "      <td>facture</td>\n",
       "    </tr>\n",
       "    <tr>\n",
       "      <th>1999</th>\n",
       "      <td>1999</td>\n",
       "      <td>facture</td>\n",
       "    </tr>\n",
       "  </tbody>\n",
       "</table>\n",
       "</div>"
      ],
      "text/plain": [
       "      name    label\n",
       "1997  1997  facture\n",
       "1998  1998  facture\n",
       "1999  1999  facture"
      ]
     },
     "execution_count": 3,
     "metadata": {},
     "output_type": "execute_result"
    }
   ],
   "source": [
    "trainFiles=gl(\"data/train/*.txt\") # getting all the names train files end with .txt\n",
    "print(f\"trainFiles got {len(trainFiles)} files\")\n",
    "valFiles=gl(\"data/val/*.txt\") # getting all the names train files end with .txt\n",
    "valCSV=pd.read_csv(gl(\"data/val/*.csv\")[0])\n",
    "print(f\"valFiles got {len(trainFiles)} files\\n\")\n",
    "print(f\"The last 3 files of trainFiles :{trainFiles[:5]}\")# geting the firts 5 files\n",
    "valCSV.tail(3)"
   ]
  },
  {
   "cell_type": "markdown",
   "metadata": {},
   "source": [
    "<a name =\"#sol1.2\"></a>\n",
    "## Analyzing the data set \n",
    "* We can note that we have 800 validations files and the in data frame there is 2000 name files.\n",
    "* Next we are going to check for the missing values and understand what are the 2000 names "
   ]
  },
  {
   "cell_type": "code",
   "execution_count": 5,
   "metadata": {},
   "outputs": [
    {
     "name": "stdout",
     "output_type": "stream",
     "text": [
      "<class 'pandas.core.frame.DataFrame'>\n",
      "RangeIndex: 2000 entries, 0 to 1999\n",
      "Data columns (total 2 columns):\n",
      " #   Column  Non-Null Count  Dtype \n",
      "---  ------  --------------  ----- \n",
      " 0   name    2000 non-null   int64 \n",
      " 1   label   2000 non-null   object\n",
      "dtypes: int64(1), object(1)\n",
      "memory usage: 31.4+ KB\n",
      "\n",
      "facture    1600\n",
      "contrat     400\n",
      "Name: label, dtype: int64\n"
     ]
    },
    {
     "data": {
      "text/html": [
       "<div>\n",
       "<style scoped>\n",
       "    .dataframe tbody tr th:only-of-type {\n",
       "        vertical-align: middle;\n",
       "    }\n",
       "\n",
       "    .dataframe tbody tr th {\n",
       "        vertical-align: top;\n",
       "    }\n",
       "\n",
       "    .dataframe thead th {\n",
       "        text-align: right;\n",
       "    }\n",
       "</style>\n",
       "<table border=\"1\" class=\"dataframe\">\n",
       "  <thead>\n",
       "    <tr style=\"text-align: right;\">\n",
       "      <th></th>\n",
       "      <th>name</th>\n",
       "    </tr>\n",
       "  </thead>\n",
       "  <tbody>\n",
       "    <tr>\n",
       "      <th>count</th>\n",
       "      <td>2000.000000</td>\n",
       "    </tr>\n",
       "    <tr>\n",
       "      <th>mean</th>\n",
       "      <td>999.500000</td>\n",
       "    </tr>\n",
       "    <tr>\n",
       "      <th>std</th>\n",
       "      <td>577.494589</td>\n",
       "    </tr>\n",
       "    <tr>\n",
       "      <th>min</th>\n",
       "      <td>0.000000</td>\n",
       "    </tr>\n",
       "    <tr>\n",
       "      <th>25%</th>\n",
       "      <td>499.750000</td>\n",
       "    </tr>\n",
       "    <tr>\n",
       "      <th>50%</th>\n",
       "      <td>999.500000</td>\n",
       "    </tr>\n",
       "    <tr>\n",
       "      <th>75%</th>\n",
       "      <td>1499.250000</td>\n",
       "    </tr>\n",
       "    <tr>\n",
       "      <th>max</th>\n",
       "      <td>1999.000000</td>\n",
       "    </tr>\n",
       "  </tbody>\n",
       "</table>\n",
       "</div>"
      ],
      "text/plain": [
       "              name\n",
       "count  2000.000000\n",
       "mean    999.500000\n",
       "std     577.494589\n",
       "min       0.000000\n",
       "25%     499.750000\n",
       "50%     999.500000\n",
       "75%    1499.250000\n",
       "max    1999.000000"
      ]
     },
     "execution_count": 5,
     "metadata": {},
     "output_type": "execute_result"
    }
   ],
   "source": [
    "valCSV.info()\n",
    "print(\"\")\n",
    "print(valCSV.label.value_counts())\n",
    "valCSV.describe()"
   ]
  },
  {
   "cell_type": "markdown",
   "metadata": {},
   "source": [
    "* As we see above there is no missing values but there is extra data \n",
    "* There is 1600 facture \n",
    "* There is 400 contrat "
   ]
  },
  {
   "cell_type": "code",
   "execution_count": 7,
   "metadata": {},
   "outputs": [],
   "source": [
    "def preprocessing(doc,label=None):\n",
    "    \"\"\"This function will preprocess and clean the text\n",
    "    \n",
    "    Args:\n",
    "        doc (string): a given document\n",
    "        d_model (booling, optional): if the data set is labeld \n",
    "    Returns:\n",
    "        string or list of two string: a preprocessed text\n",
    "    \"\"\"\n",
    "    with open(doc, 'r') as text:\n",
    "         doc_ = text.read()# reading files \n",
    "    doc_ = doc_.lower() # lowercasing \n",
    "    #using translate to replace so values with the character described in a dictionary to remove punctuation\n",
    "    doc_ = doc_.translate(str.maketrans('', '', string.punctuation)) \n",
    "    doc_ = re.sub(r'\\n',' ',doc_) #removing  lines\n",
    "    doc_ = re.sub(r'\\t',' ',doc_)#removing  tabs\n",
    "    doc_ = re.sub(r'\\d+',' NUM ',doc_) #numbers have no meaning values in our case so we can replace them\n",
    "    doc_ = ' '.join(doc_.split())# removing extra sapces\n",
    "    if label:\n",
    "        return [doc_,int(doc.split(\"/\")[-1][:-4])]#if it is the val set than get their names\n",
    "        #not it important to get the doc preprocessed and its name beacause when using threading the \n",
    "        #data are not in order. \n",
    "    return doc_"
   ]
  },
  {
   "cell_type": "markdown",
   "metadata": {},
   "source": [
    "## Strategy \n",
    "* I am using Multi threading and a generator to accelerate the importing and the preprocessing of the Documents \n",
    "* Than I am using TF-idf vectorizing technique for word embadding\n",
    "    * Since TF-IDF weights words based on relevance, it will help to determine that the words with the highest relevance are the most important. It simply determine keywords for a document\n",
    "    * The task seems not that hard so I am using max_features 500 (plus, I checked with PCA visualisation and KMeans with 500 feautres it dose sepreate the two classes well) and no need to consume time and energy for higher values.\n",
    "    * As well i have decided to make nGram from 1 to 3 words\n",
    "\n",
    "I wanted to use more sophisticated algorithms for word embedding with Artificial neulal network to make word embedding with 300 dimensions but it is ok with one hot encoding using TF-idf word vectorizing for this problem "
   ]
  },
  {
   "cell_type": "markdown",
   "metadata": {},
   "source": [
    "### Uesig Threading for the train set to be preprocessed"
   ]
  },
  {
   "cell_type": "code",
   "execution_count": 8,
   "metadata": {},
   "outputs": [],
   "source": [
    "with ThreadPoolExecutor() as execu:\n",
    "    trainClean= execu.map(preprocessing, trainFiles)# preprocessing train set\n",
    "tfidf_vectorizer = TfidfVectorizer(max_features=500, ngram_range=(1,3)).fit(trainClean)#Tfidf transform\n",
    "with ThreadPoolExecutor() as execu:\n",
    "    trainClean= execu.map(preprocessing, trainFiles)# re iterting for the tranforme "
   ]
  },
  {
   "cell_type": "markdown",
   "metadata": {},
   "source": [
    "### Uesig Threading for the val set to be preprocessed "
   ]
  },
  {
   "cell_type": "code",
   "execution_count": 9,
   "metadata": {},
   "outputs": [],
   "source": [
    "is_true=[1]*len(valFiles)\n",
    "with ThreadPoolExecutor() as execu:\n",
    "    testClean= execu.map(preprocessing,valFiles,is_true)\n",
    "testClean=np.array(list(testClean)) #transform to numpy array to get individual names "
   ]
  },
  {
   "cell_type": "markdown",
   "metadata": {},
   "source": [
    "### Train set is transforming and it looks like  : "
   ]
  },
  {
   "cell_type": "code",
   "execution_count": 10,
   "metadata": {},
   "outputs": [
    {
     "data": {
      "text/html": [
       "<div>\n",
       "<style scoped>\n",
       "    .dataframe tbody tr th:only-of-type {\n",
       "        vertical-align: middle;\n",
       "    }\n",
       "\n",
       "    .dataframe tbody tr th {\n",
       "        vertical-align: top;\n",
       "    }\n",
       "\n",
       "    .dataframe thead th {\n",
       "        text-align: right;\n",
       "    }\n",
       "</style>\n",
       "<table border=\"1\" class=\"dataframe\">\n",
       "  <thead>\n",
       "    <tr style=\"text-align: right;\">\n",
       "      <th></th>\n",
       "      <th>0</th>\n",
       "      <th>1</th>\n",
       "      <th>2</th>\n",
       "      <th>3</th>\n",
       "      <th>4</th>\n",
       "      <th>5</th>\n",
       "      <th>6</th>\n",
       "      <th>7</th>\n",
       "      <th>8</th>\n",
       "      <th>9</th>\n",
       "      <th>...</th>\n",
       "      <th>490</th>\n",
       "      <th>491</th>\n",
       "      <th>492</th>\n",
       "      <th>493</th>\n",
       "      <th>494</th>\n",
       "      <th>495</th>\n",
       "      <th>496</th>\n",
       "      <th>497</th>\n",
       "      <th>498</th>\n",
       "      <th>499</th>\n",
       "    </tr>\n",
       "  </thead>\n",
       "  <tbody>\n",
       "    <tr>\n",
       "      <th>0</th>\n",
       "      <td>0.010625</td>\n",
       "      <td>0.020776</td>\n",
       "      <td>0.000000</td>\n",
       "      <td>0.000000</td>\n",
       "      <td>0.021277</td>\n",
       "      <td>0.000000</td>\n",
       "      <td>0.029423</td>\n",
       "      <td>0.000000</td>\n",
       "      <td>0.013730</td>\n",
       "      <td>0.022348</td>\n",
       "      <td>...</td>\n",
       "      <td>0.000000</td>\n",
       "      <td>0.000000</td>\n",
       "      <td>0.011273</td>\n",
       "      <td>0.013333</td>\n",
       "      <td>0.010639</td>\n",
       "      <td>0.011146</td>\n",
       "      <td>0.017656</td>\n",
       "      <td>0.022096</td>\n",
       "      <td>0.010056</td>\n",
       "      <td>0.013841</td>\n",
       "    </tr>\n",
       "    <tr>\n",
       "      <th>1</th>\n",
       "      <td>0.021655</td>\n",
       "      <td>0.021172</td>\n",
       "      <td>0.013788</td>\n",
       "      <td>0.000000</td>\n",
       "      <td>0.010841</td>\n",
       "      <td>0.020857</td>\n",
       "      <td>0.019989</td>\n",
       "      <td>0.013569</td>\n",
       "      <td>0.013992</td>\n",
       "      <td>0.022774</td>\n",
       "      <td>...</td>\n",
       "      <td>0.000000</td>\n",
       "      <td>0.013286</td>\n",
       "      <td>0.022976</td>\n",
       "      <td>0.000000</td>\n",
       "      <td>0.010841</td>\n",
       "      <td>0.022716</td>\n",
       "      <td>0.017992</td>\n",
       "      <td>0.022517</td>\n",
       "      <td>0.020495</td>\n",
       "      <td>0.000000</td>\n",
       "    </tr>\n",
       "    <tr>\n",
       "      <th>2</th>\n",
       "      <td>0.010313</td>\n",
       "      <td>0.020167</td>\n",
       "      <td>0.013133</td>\n",
       "      <td>0.013133</td>\n",
       "      <td>0.010326</td>\n",
       "      <td>0.019866</td>\n",
       "      <td>0.028559</td>\n",
       "      <td>0.000000</td>\n",
       "      <td>0.013327</td>\n",
       "      <td>0.010846</td>\n",
       "      <td>...</td>\n",
       "      <td>0.013063</td>\n",
       "      <td>0.012655</td>\n",
       "      <td>0.010942</td>\n",
       "      <td>0.000000</td>\n",
       "      <td>0.010326</td>\n",
       "      <td>0.000000</td>\n",
       "      <td>0.000000</td>\n",
       "      <td>0.010723</td>\n",
       "      <td>0.019521</td>\n",
       "      <td>0.013435</td>\n",
       "    </tr>\n",
       "    <tr>\n",
       "      <th>3</th>\n",
       "      <td>0.000000</td>\n",
       "      <td>0.030884</td>\n",
       "      <td>0.013408</td>\n",
       "      <td>0.000000</td>\n",
       "      <td>0.010543</td>\n",
       "      <td>0.020283</td>\n",
       "      <td>0.029158</td>\n",
       "      <td>0.013196</td>\n",
       "      <td>0.000000</td>\n",
       "      <td>0.022147</td>\n",
       "      <td>...</td>\n",
       "      <td>0.013337</td>\n",
       "      <td>0.012920</td>\n",
       "      <td>0.011172</td>\n",
       "      <td>0.013213</td>\n",
       "      <td>0.021086</td>\n",
       "      <td>0.011046</td>\n",
       "      <td>0.000000</td>\n",
       "      <td>0.010948</td>\n",
       "      <td>0.009965</td>\n",
       "      <td>0.013717</td>\n",
       "    </tr>\n",
       "    <tr>\n",
       "      <th>4</th>\n",
       "      <td>0.010814</td>\n",
       "      <td>0.021146</td>\n",
       "      <td>0.000000</td>\n",
       "      <td>0.013770</td>\n",
       "      <td>0.021655</td>\n",
       "      <td>0.000000</td>\n",
       "      <td>0.009982</td>\n",
       "      <td>0.013552</td>\n",
       "      <td>0.000000</td>\n",
       "      <td>0.011373</td>\n",
       "      <td>...</td>\n",
       "      <td>0.000000</td>\n",
       "      <td>0.013269</td>\n",
       "      <td>0.022947</td>\n",
       "      <td>0.013570</td>\n",
       "      <td>0.021655</td>\n",
       "      <td>0.034032</td>\n",
       "      <td>0.035939</td>\n",
       "      <td>0.011244</td>\n",
       "      <td>0.020469</td>\n",
       "      <td>0.014087</td>\n",
       "    </tr>\n",
       "  </tbody>\n",
       "</table>\n",
       "<p>5 rows × 500 columns</p>\n",
       "</div>"
      ],
      "text/plain": [
       "        0         1         2         3         4         5         6    \\\n",
       "0  0.010625  0.020776  0.000000  0.000000  0.021277  0.000000  0.029423   \n",
       "1  0.021655  0.021172  0.013788  0.000000  0.010841  0.020857  0.019989   \n",
       "2  0.010313  0.020167  0.013133  0.013133  0.010326  0.019866  0.028559   \n",
       "3  0.000000  0.030884  0.013408  0.000000  0.010543  0.020283  0.029158   \n",
       "4  0.010814  0.021146  0.000000  0.013770  0.021655  0.000000  0.009982   \n",
       "\n",
       "        7         8         9    ...       490       491       492       493  \\\n",
       "0  0.000000  0.013730  0.022348  ...  0.000000  0.000000  0.011273  0.013333   \n",
       "1  0.013569  0.013992  0.022774  ...  0.000000  0.013286  0.022976  0.000000   \n",
       "2  0.000000  0.013327  0.010846  ...  0.013063  0.012655  0.010942  0.000000   \n",
       "3  0.013196  0.000000  0.022147  ...  0.013337  0.012920  0.011172  0.013213   \n",
       "4  0.013552  0.000000  0.011373  ...  0.000000  0.013269  0.022947  0.013570   \n",
       "\n",
       "        494       495       496       497       498       499  \n",
       "0  0.010639  0.011146  0.017656  0.022096  0.010056  0.013841  \n",
       "1  0.010841  0.022716  0.017992  0.022517  0.020495  0.000000  \n",
       "2  0.010326  0.000000  0.000000  0.010723  0.019521  0.013435  \n",
       "3  0.021086  0.011046  0.000000  0.010948  0.009965  0.013717  \n",
       "4  0.021655  0.034032  0.035939  0.011244  0.020469  0.014087  \n",
       "\n",
       "[5 rows x 500 columns]"
      ]
     },
     "execution_count": 10,
     "metadata": {},
     "output_type": "execute_result"
    }
   ],
   "source": [
    "X_train_T=tfidf_vectorizer.transform(trainClean)\n",
    "X_train=pd.DataFrame.sparse.from_spmatrix(X_train_T)# geting the data transformed from spmatrix to data frame \n",
    "X_train.head()"
   ]
  },
  {
   "cell_type": "markdown",
   "metadata": {},
   "source": [
    "### Val set transforming "
   ]
  },
  {
   "cell_type": "code",
   "execution_count": 11,
   "metadata": {},
   "outputs": [],
   "source": [
    "X_test_T=tfidf_vectorizer.transform(testClean[:,0])\n",
    "X_test=pd.DataFrame.sparse.from_spmatrix(X_test_T) #geting the data transformed from spmatrix to data frame \n",
    "#geting the val set preprocessed\n",
    "X_test_index=testClean[:,1]# geting the names "
   ]
  },
  {
   "cell_type": "markdown",
   "metadata": {},
   "source": [
    "<a name =\"#sol1.3\"></a>\n",
    "## Modeling and predicting "
   ]
  },
  {
   "cell_type": "markdown",
   "metadata": {},
   "source": [
    "### Fitting the model with k-means chossing two clusters "
   ]
  },
  {
   "cell_type": "code",
   "execution_count": 12,
   "metadata": {},
   "outputs": [
    {
     "data": {
      "text/plain": [
       "KMeans(n_clusters=2, random_state=42)"
      ]
     },
     "execution_count": 12,
     "metadata": {},
     "output_type": "execute_result"
    }
   ],
   "source": [
    "model=KMeans(n_clusters=2,random_state=42,algorithm=\"auto\")\n",
    "model.fit(X_train)"
   ]
  },
  {
   "cell_type": "markdown",
   "metadata": {},
   "source": [
    "### Here I am just testing on 2000 features using PCA and K-means\n",
    "It seems very powerful but is it necessary ? "
   ]
  },
  {
   "cell_type": "code",
   "execution_count": 13,
   "metadata": {},
   "outputs": [
    {
     "data": {
      "image/png": "[encoded data removed]",
      "text/plain": [
       "<Figure size 800x480 with 1 Axes>"
      ]
     },
     "metadata": {},
     "output_type": "display_data"
    }
   ],
   "source": [
    "# re Applying the preprocessing with 20000\n",
    "with ThreadPoolExecutor() as execu:\n",
    "    trainClean= execu.map(preprocessing, trainFiles)\n",
    "tfidf_vectorizer2 = TfidfVectorizer(max_features=2000, ngram_range=(1,3)).fit(trainClean)\n",
    "with ThreadPoolExecutor() as execu:\n",
    "    trainClean= execu.map(preprocessing, trainFiles)\n",
    "X_train_T2=tfidf_vectorizer2.transform(trainClean)\n",
    "X_train2=pd.DataFrame.sparse.from_spmatrix(X_train_T2)\n",
    "\n",
    "# apply PCA and K-means \n",
    "pca = PCA(2)\n",
    "#Transform the data\n",
    "df = pca.fit_transform(X_train2.values)\n",
    "KMea=KMeans(n_clusters=2,random_state=42)\n",
    "label = KMea.fit_predict(df)\n",
    "#filter rows of original data\n",
    "filtered_label0 = df[label == 0] #Facture\n",
    "filtered_label1 = df[label == 1]\n",
    "#Plotting the results\n",
    "plt.figure(figsize=(10, 6), dpi=80)\n",
    "plt.scatter(filtered_label0[:,0] , filtered_label0[:,1] , color = 'lightgreen',label=\"Facture\")\n",
    "plt.scatter(filtered_label1[:,0] , filtered_label1[:,1] , color = 'lightblue',label=\"Contrat\")\n",
    "plt.legend()\n",
    "plt.title(\"Principal component analysis on the 1st and second axis using Kmeans clustering for Contrat and Facture using 2000 features\")\n",
    "plt.ylabel(\"2st axis\")\n",
    "plt.xlabel(\"1se axis\")\n",
    "plt.show()"
   ]
  },
  {
   "cell_type": "markdown",
   "metadata": {},
   "source": [
    "### Well 500 features is good enough to get a great result and much faster"
   ]
  },
  {
   "cell_type": "code",
   "execution_count": 14,
   "metadata": {},
   "outputs": [
    {
     "data": {
      "image/png": "[encoded data removed]",
      "text/plain": [
       "<Figure size 800x480 with 1 Axes>"
      ]
     },
     "metadata": {},
     "output_type": "display_data"
    }
   ],
   "source": [
    "# apply PCA and K-means \n",
    "pca = PCA(2)\n",
    "#Transform the data\n",
    "df = pca.fit_transform(X_train.values)\n",
    "KMea=KMeans(n_clusters=2,random_state=42)\n",
    "label = KMea.fit_predict(df)\n",
    "#filter rows of original data\n",
    "filtered_label0 = df[label == 0]\n",
    "filtered_label1 = df[label == 1]\n",
    "#Plotting the results\n",
    "plt.figure(figsize=(10, 6), dpi=80)\n",
    "plt.scatter(filtered_label0[:,0] , filtered_label0[:,1] , color = 'lightgreen',label=\"Facture\")\n",
    "plt.scatter(filtered_label1[:,0] , filtered_label1[:,1] , color = 'lightblue',label=\"Contrat\")\n",
    "plt.legend()\n",
    "plt.title(\"Principal component analysis on the 1st and second axis using Kmeans clustering for Contrat and Facture using 500 features\")\n",
    "plt.ylabel(\"2st axis\")\n",
    "plt.xlabel(\"1se axis\")\n",
    "plt.show()"
   ]
  },
  {
   "cell_type": "markdown",
   "metadata": {},
   "source": [
    "### Now we can predict the val set and check the results "
   ]
  },
  {
   "cell_type": "code",
   "execution_count": 15,
   "metadata": {},
   "outputs": [
    {
     "data": {
      "text/html": [
       "<div>\n",
       "<style scoped>\n",
       "    .dataframe tbody tr th:only-of-type {\n",
       "        vertical-align: middle;\n",
       "    }\n",
       "\n",
       "    .dataframe tbody tr th {\n",
       "        vertical-align: top;\n",
       "    }\n",
       "\n",
       "    .dataframe thead th {\n",
       "        text-align: right;\n",
       "    }\n",
       "</style>\n",
       "<table border=\"1\" class=\"dataframe\">\n",
       "  <thead>\n",
       "    <tr style=\"text-align: right;\">\n",
       "      <th></th>\n",
       "      <th>name</th>\n",
       "      <th>clusters</th>\n",
       "      <th>label</th>\n",
       "    </tr>\n",
       "  </thead>\n",
       "  <tbody>\n",
       "    <tr>\n",
       "      <th>0</th>\n",
       "      <td>359</td>\n",
       "      <td>1</td>\n",
       "      <td>contrat</td>\n",
       "    </tr>\n",
       "    <tr>\n",
       "      <th>1</th>\n",
       "      <td>371</td>\n",
       "      <td>1</td>\n",
       "      <td>contrat</td>\n",
       "    </tr>\n",
       "    <tr>\n",
       "      <th>2</th>\n",
       "      <td>417</td>\n",
       "      <td>0</td>\n",
       "      <td>facture</td>\n",
       "    </tr>\n",
       "    <tr>\n",
       "      <th>3</th>\n",
       "      <td>403</td>\n",
       "      <td>0</td>\n",
       "      <td>facture</td>\n",
       "    </tr>\n",
       "    <tr>\n",
       "      <th>4</th>\n",
       "      <td>365</td>\n",
       "      <td>1</td>\n",
       "      <td>contrat</td>\n",
       "    </tr>\n",
       "    <tr>\n",
       "      <th>...</th>\n",
       "      <td>...</td>\n",
       "      <td>...</td>\n",
       "      <td>...</td>\n",
       "    </tr>\n",
       "    <tr>\n",
       "      <th>795</th>\n",
       "      <td>368</td>\n",
       "      <td>1</td>\n",
       "      <td>contrat</td>\n",
       "    </tr>\n",
       "    <tr>\n",
       "      <th>796</th>\n",
       "      <td>340</td>\n",
       "      <td>1</td>\n",
       "      <td>contrat</td>\n",
       "    </tr>\n",
       "    <tr>\n",
       "      <th>797</th>\n",
       "      <td>426</td>\n",
       "      <td>0</td>\n",
       "      <td>facture</td>\n",
       "    </tr>\n",
       "    <tr>\n",
       "      <th>798</th>\n",
       "      <td>432</td>\n",
       "      <td>0</td>\n",
       "      <td>facture</td>\n",
       "    </tr>\n",
       "    <tr>\n",
       "      <th>799</th>\n",
       "      <td>354</td>\n",
       "      <td>1</td>\n",
       "      <td>contrat</td>\n",
       "    </tr>\n",
       "  </tbody>\n",
       "</table>\n",
       "<p>800 rows × 3 columns</p>\n",
       "</div>"
      ],
      "text/plain": [
       "    name  clusters    label\n",
       "0    359         1  contrat\n",
       "1    371         1  contrat\n",
       "2    417         0  facture\n",
       "3    403         0  facture\n",
       "4    365         1  contrat\n",
       "..   ...       ...      ...\n",
       "795  368         1  contrat\n",
       "796  340         1  contrat\n",
       "797  426         0  facture\n",
       "798  432         0  facture\n",
       "799  354         1  contrat\n",
       "\n",
       "[800 rows x 3 columns]"
      ]
     },
     "execution_count": 15,
     "metadata": {},
     "output_type": "execute_result"
    }
   ],
   "source": [
    "test_labels = model.predict(X_test)# predict \n",
    "testData=pd.DataFrame({\"name\":X_test_index}) #creating dataframe for text index from val set\n",
    "testData['clusters'] = test_labels # adding the labels \n",
    "valCSV['name']=valCSV.name.astype(\"str\")#Making \"name\" type a string to match with prediction data \n",
    "X_test_clstrs=testData.merge(valCSV,on=\"name\" ,how =\"left\") #Merging on the available val data on the name \n",
    "X_test_clstrs"
   ]
  },
  {
   "cell_type": "code",
   "execution_count": 16,
   "metadata": {},
   "outputs": [
    {
     "data": {
      "text/html": [
       "<div>\n",
       "<style scoped>\n",
       "    .dataframe tbody tr th:only-of-type {\n",
       "        vertical-align: middle;\n",
       "    }\n",
       "\n",
       "    .dataframe tbody tr th {\n",
       "        vertical-align: top;\n",
       "    }\n",
       "\n",
       "    .dataframe thead th {\n",
       "        text-align: right;\n",
       "    }\n",
       "</style>\n",
       "<table border=\"1\" class=\"dataframe\">\n",
       "  <thead>\n",
       "    <tr style=\"text-align: right;\">\n",
       "      <th></th>\n",
       "      <th>name</th>\n",
       "      <th>clusters</th>\n",
       "      <th>label</th>\n",
       "      <th>label_pred</th>\n",
       "    </tr>\n",
       "  </thead>\n",
       "  <tbody>\n",
       "    <tr>\n",
       "      <th>0</th>\n",
       "      <td>359</td>\n",
       "      <td>1</td>\n",
       "      <td>contrat</td>\n",
       "      <td>contrat</td>\n",
       "    </tr>\n",
       "    <tr>\n",
       "      <th>1</th>\n",
       "      <td>371</td>\n",
       "      <td>1</td>\n",
       "      <td>contrat</td>\n",
       "      <td>contrat</td>\n",
       "    </tr>\n",
       "    <tr>\n",
       "      <th>2</th>\n",
       "      <td>417</td>\n",
       "      <td>0</td>\n",
       "      <td>facture</td>\n",
       "      <td>facture</td>\n",
       "    </tr>\n",
       "    <tr>\n",
       "      <th>3</th>\n",
       "      <td>403</td>\n",
       "      <td>0</td>\n",
       "      <td>facture</td>\n",
       "      <td>facture</td>\n",
       "    </tr>\n",
       "    <tr>\n",
       "      <th>4</th>\n",
       "      <td>365</td>\n",
       "      <td>1</td>\n",
       "      <td>contrat</td>\n",
       "      <td>contrat</td>\n",
       "    </tr>\n",
       "  </tbody>\n",
       "</table>\n",
       "</div>"
      ],
      "text/plain": [
       "  name  clusters    label label_pred\n",
       "0  359         1  contrat    contrat\n",
       "1  371         1  contrat    contrat\n",
       "2  417         0  facture    facture\n",
       "3  403         0  facture    facture\n",
       "4  365         1  contrat    contrat"
      ]
     },
     "execution_count": 16,
     "metadata": {},
     "output_type": "execute_result"
    }
   ],
   "source": [
    "X_test_clstrs[\"label_pred\"]=X_test_clstrs.clusters.map({1:\"contrat\",0:\"facture\"})#re naming the pred labels \n",
    "X_test_clstrs.head()\n"
   ]
  },
  {
   "cell_type": "markdown",
   "metadata": {},
   "source": [
    "### Getting the performance "
   ]
  },
  {
   "cell_type": "code",
   "execution_count": 17,
   "metadata": {},
   "outputs": [
    {
     "name": "stdout",
     "output_type": "stream",
     "text": [
      "              precision    recall  f1-score   support\n",
      "\n",
      "     contrat       1.00      1.00      1.00       400\n",
      "     facture       1.00      1.00      1.00       400\n",
      "\n",
      "    accuracy                           1.00       800\n",
      "   macro avg       1.00      1.00      1.00       800\n",
      "weighted avg       1.00      1.00      1.00       800\n",
      "\n"
     ]
    }
   ],
   "source": [
    "print(classification_report(X_test_clstrs.label,X_test_clstrs.label_pred))"
   ]
  },
  {
   "cell_type": "markdown",
   "metadata": {},
   "source": [
    "### Incredible result I want to see if there is problme or is the model is very good because its quit rare to have 100% accuracy "
   ]
  },
  {
   "cell_type": "code",
   "execution_count": 20,
   "metadata": {},
   "outputs": [
    {
     "name": "stdout",
     "output_type": "stream",
     "text": [
      "<_io.TextIOWrapper name='data/val/0158.txt' mode='r' encoding='UTF-8'>\n",
      "SFR\n",
      "Contrat factif no. 217159\n",
      "\n",
      "Résumé des offres de vot*e contrat:\n",
      "SFR *OBILE 5G\n",
      "SFR ADSL\n",
      "\n",
      "Résumé deszéquipement de votre conorat:\n",
      "Television LG 42\"\n",
      "APPLE iltone\n",
      "Semsung Galaxy\n",
      "SwR BOX 7!\n",
      "Résumé des o\n"
     ]
    },
    {
     "data": {
      "text/html": [
       "<div>\n",
       "<style scoped>\n",
       "    .dataframe tbody tr th:only-of-type {\n",
       "        vertical-align: middle;\n",
       "    }\n",
       "\n",
       "    .dataframe tbody tr th {\n",
       "        vertical-align: top;\n",
       "    }\n",
       "\n",
       "    .dataframe thead th {\n",
       "        text-align: right;\n",
       "    }\n",
       "</style>\n",
       "<table border=\"1\" class=\"dataframe\">\n",
       "  <thead>\n",
       "    <tr style=\"text-align: right;\">\n",
       "      <th></th>\n",
       "      <th>name</th>\n",
       "      <th>clusters</th>\n",
       "      <th>label</th>\n",
       "      <th>label_pred</th>\n",
       "    </tr>\n",
       "  </thead>\n",
       "  <tbody>\n",
       "    <tr>\n",
       "      <th>50</th>\n",
       "      <td>158</td>\n",
       "      <td>1</td>\n",
       "      <td>contrat</td>\n",
       "      <td>contrat</td>\n",
       "    </tr>\n",
       "  </tbody>\n",
       "</table>\n",
       "</div>"
      ],
      "text/plain": [
       "   name  clusters    label label_pred\n",
       "50  158         1  contrat    contrat"
      ]
     },
     "execution_count": 20,
     "metadata": {},
     "output_type": "execute_result"
    }
   ],
   "source": [
    "# checking many values\n",
    "with open(valFiles[50], 'r') as test:\n",
    "        print(test)\n",
    "        test = test.read()\n",
    "        print(test[:200])\n",
    "X_test_clstrs[X_test_clstrs.name==\"158\"]"
   ]
  },
  {
   "cell_type": "markdown",
   "metadata": {},
   "source": [
    "## Results  \n",
    "\n",
    "### - As we can see there is 400 \"contrat\" label and 400 \"facture\" label\n",
    "### - The model got 100% accuracy for f1-Score the model performes Excellent !\n",
    "### - 100% right for the recall and 100% for the precision the model can predict well the \"contrat\" and the \"facure\" "
   ]
  },
  {
   "cell_type": "markdown",
   "metadata": {},
   "source": [
    "# ––––––––––––––––––––––––––––––––––––––––––––––––––––––––––––––––––––––"
   ]
  },
  {
   "cell_type": "markdown",
   "metadata": {},
   "source": [
    "<a name='ex2'></a>\n",
    "\n",
    "\n",
    "# Exercice 2 : SQL\n",
    "\n",
    "Vous travaillez chez un revendeur et disposez de deux tables **PRODUCTS** et **SALES** contenant les produits et les ventes réalisées. Ci-dessous les schémas et quelques exemples\n",
    "\n",
    "**PRODUCTS**\n",
    "- Product : STRING, PRIMARY KEY, contient le nom du produit\n",
    "- Price : INT, contient le coût en euro du produit\n",
    "\n",
    "| Product | Price |\n",
    "|:-: | :-: |\n",
    "| A | 100 | \n",
    "| B | 250 |\n",
    "|...|...|\n",
    "\n",
    "**SALES**\n",
    "- Order_ID : STRING, contient l'identifiant de l'achat\n",
    "- Product : STRING, contient le nom du produit\n",
    "\n",
    "| Order_ID | Product |\n",
    "|:-: | :-: |\n",
    "| a12f3 | A | \n",
    "| a12f3 | C |\n",
    "| b57g6 | B |\n",
    "|...|...|\n",
    "\n",
    "**1)** Ecrire une requete SQL retournant les *Order_ID* dans lesquels un produit coûtant 100 euros a été acheté <br>\n",
    "**2)** Ecrire une requete SQL retournant les *Order_ID* dont le coût global de l'achat est d'au moins 200 euros"
   ]
  },
  {
   "cell_type": "markdown",
   "metadata": {},
   "source": [
    "<a name='sol2'></a>\n",
    "# ––––––––––––––––––––––––––––––––––––––––––––––––––––––––––––––––––––––\n",
    "# Solution for exercice 2\n",
    "## Importing all the Important packages :"
   ]
  },
  {
   "cell_type": "markdown",
   "metadata": {},
   "source": [
    "1. Une requete SQL retournant les Order_ID dans lesquels un produit coûtant 100 euros a été acheté \n",
    "\n",
    "``` mysql\n",
    "SELECT Order_ID\n",
    "FROM SALES  INNER JOIN PRODUCTS\n",
    "ON SALES.Product = PRODUCTS.Product\n",
    "WHERE Price = 100;\n",
    "```\n",
    "\n",
    "2. Une requete SQL retournant les Order_ID dont le coût global de l'achat est d'au moins 200 euros\n",
    "\n",
    "``` mysql\n",
    "SELECT Order_ID, SUM_\n",
    "FROM (\n",
    "SELECT Order_ID,SUM(Price) as SUM_ \n",
    "FROM SALES  INNER JOIN PRODUCTS\n",
    "ON SALES.Product = PRODUCTS.Product\n",
    "GROUP BY Order_ID)\n",
    "WHERE SUM_ >= 200;\n",
    "```\n"
   ]
  },
  {
   "cell_type": "markdown",
   "metadata": {},
   "source": []
  },
  {
   "cell_type": "markdown",
   "metadata": {},
   "source": [
    "# ––––––––––––––––––––––––––––––––––––––––––––––––––––––––––––––––––––––\n",
    "\n",
    "<a name=\"ex3\"></a>\n",
    "# Exercice 3 : Mathématiques\n",
    "\n",
    "Soit $(E, \\langle , \\rangle )$ un espace euclidien. On note $(e_1, \\dots, e_n)$ une base orthonormée de $E$.<br>\n",
    "Soit $f \\in \\mathcal{L}(E)$ telle que\n",
    "\n",
    "<center> $\\forall x,y \\in E, \\hspace{1cm} \\langle x,y \\rangle = 0 \\Rightarrow \\langle f(x),f(y) \\rangle = 0 $ </center>\n",
    "\n",
    "<br><br>\n",
    "\n",
    "**1)** Montrer que $\\forall i \\neq j$, $||f(e_i)|| = ||f(e_j)||$ <br></br>\n",
    "*Indication : on pourra considérer* $u = e_i + e_j$ et $v = e_i - e_j$\n",
    "\n",
    "**2)** On suppose $f \\neq 0$, montrer qu'il existe $\\lambda > 0$ telle que $\\forall x \\in E$, $ ||f(x)|| = \\lambda ||x||$ <br></br>\n",
    "*Indication : on pourra écrire* $x = \\sum x_i e_i$\n",
    "\n",
    "<br>\n",
    "\n",
    "*Réponse attendue en français*"
   ]
  },
  {
   "cell_type": "markdown",
   "metadata": {},
   "source": [
    "# ––––––––––––––––––––––––––––––––––––––––––––––––––––––––––––––––––––––\n",
    "\n",
    "Désolé ca fait longtemps je n'ai pas fait d'algèbre théorique. je ne me rapple plus comment prouver que les normes sont égaux quand le produit scalaire de ces deux fonction est nul."
   ]
  },
  {
   "cell_type": "markdown",
   "metadata": {},
   "source": []
  }
 ],
 "metadata": {
  "kernelspec": {
   "display_name": "Python 3",
   "language": "python",
   "name": "python3"
  },
  "language_info": {
   "codemirror_mode": {
    "name": "ipython",
    "version": 3
   },
   "file_extension": ".py",
   "mimetype": "text/x-python",
   "name": "python",
   "nbconvert_exporter": "python",
   "pygments_lexer": "ipython3",
   "version": "3.8.8"
  }
 },
 "nbformat": 4,
 "nbformat_minor": 2
}
